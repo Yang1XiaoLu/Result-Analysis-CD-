{
 "cells": [
  {
   "cell_type": "code",
   "execution_count": null,
   "id": "4c5c3dda",
   "metadata": {},
   "outputs": [],
   "source": [
    "import warnings\n",
    "warnings.simplefilter(action='ignore', category=FutureWarning)\n",
    "\n",
    "import zipfile as zp\n",
    "import os\n",
    "import pandas as pd \n",
    "import numpy as np\n",
    "import matplotlib.pyplot as plt\n",
    "import re"
   ]
  },
  {
   "cell_type": "markdown",
   "id": "182ccce9",
   "metadata": {},
   "source": [
    "### Importing Files"
   ]
  },
  {
   "cell_type": "code",
   "execution_count": null,
   "id": "c536da88",
   "metadata": {},
   "outputs": [],
   "source": [
    "checkpath = !os.path.exists('csvCleanedOutput')\n",
    "if checkpath: \n",
    "    zip = zp.ZipFile('csvCleanedOutput.zip')\n",
    "    zip.extractall()\n",
    "    "
   ]
  },
  {
   "cell_type": "code",
   "execution_count": null,
   "id": "ac666745",
   "metadata": {},
   "outputs": [],
   "source": [
    "ogRules = pd.read_csv('fa22_quest_score_time_ratio - Rule#1-4.csv')\n",
    "ogRules.head(3)\n"
   ]
  },
  {
   "cell_type": "code",
   "execution_count": null,
   "id": "156efb5f",
   "metadata": {},
   "outputs": [],
   "source": [
    "unique_1 = ogRules.nunique(axis = 0)\n",
    "unique_1\n",
    "\n",
    "unique_1_qs = ogRules['rule1_violations'].unique()\n",
    "a = []\n",
    "for ele in unique_1_qs:\n",
    "    a.append(len(ogRules[ogRules['rule1_violations'] == ele]))\n",
    "a = np.array(a)  \n",
    "unique_1_table = pd.DataFrame({'q1_violations': np.array(unique_1_qs), \n",
    "                               'q1_violations_count': a\n",
    "})\n",
    "\n",
    "unique_1_table['index'] = np.arange(0, len(unique_1_table))\n",
    "\n",
    "\n",
    "sus_rule1 = ogRules.sort('rule1_prob')"
   ]
  },
  {
   "cell_type": "markdown",
   "id": "29715b5e",
   "metadata": {},
   "source": [
    "### Graph to visualize a pair"
   ]
  },
  {
   "cell_type": "code",
   "execution_count": null,
   "id": "fcfd3aaa",
   "metadata": {
    "scrolled": true
   },
   "outputs": [],
   "source": [
    "%%capture --no-display\n",
    "def generate_graph_for_pair(student1, student2):\n",
    "    pair_row = ogRules[ogRules['student1'] == student1][ogRules['student2'] == student2]\n",
    "    violation = pair_row['rule1_violations'].reset_index()['rule1_violations'][0]\n",
    "    index = unique_1_table[unique_1_table['q1_violations'] == violation]['index'].reset_index()['index']\n",
    "    highlight_point = unique_1_table[unique_1_table['index'] == index[0]]\n",
    "    plt.scatter(unique_1_table.index, unique_1_table.q1_violations_count)\n",
    "    plt.scatter(highlight_point.index, highlight_point.q1_violations_count, color = 'red')\n",
    "    plt.xlabel('Rule1 type')\n",
    "    plt.ylabel('number of violations')\n",
    "    plt.title('Rule_1 Graph')\n",
    "\n",
    "    \n",
    "def generate_detail_for_pair1(student1, student2):\n",
    "    pair_row = ogRules[ogRules['student1'] == student1][ogRules['student2'] == student2]\n",
    "    violation = pair_row['rule1_violations'].reset_index()['rule1_violations'][0]\n",
    "    match = '(\\[[^and]*\\])'\n",
    "    a = re.findall(match, violation)[0]\n",
    "    total = str(len(ogRules))\n",
    "    rule1_count = unique_1_table[unique_1_table['q1_violations'] == violation]['q1_violations_count'].reset_index(0)['q1_violations_count'][0]\n",
    "    print('Out of ' + total + ' student pairs ' + str(rule1_count) + ' had the same time difference pattern.\\n' +\n",
    "          'with these sepecific suspecious questions in an array that are answered within 60s ' + a\n",
    "         \n",
    "         )\n",
    "    "
   ]
  },
  {
   "cell_type": "code",
   "execution_count": null,
   "id": "f050fa3f",
   "metadata": {
    "scrolled": true
   },
   "outputs": [],
   "source": [
    "generate_detail_for_pair1(19,101)\n",
    "generate_graph_for_pair(19,101)"
   ]
  },
  {
   "cell_type": "code",
   "execution_count": null,
   "id": "a8868631",
   "metadata": {},
   "outputs": [],
   "source": []
  },
  {
   "cell_type": "code",
   "execution_count": null,
   "id": "03c9646a",
   "metadata": {},
   "outputs": [],
   "source": []
  }
 ],
 "metadata": {
  "kernelspec": {
   "display_name": "Python 3 (ipykernel)",
   "language": "python",
   "name": "python3"
  },
  "language_info": {
   "codemirror_mode": {
    "name": "ipython",
    "version": 3
   },
   "file_extension": ".py",
   "mimetype": "text/x-python",
   "name": "python",
   "nbconvert_exporter": "python",
   "pygments_lexer": "ipython3",
   "version": "3.9.13"
  }
 },
 "nbformat": 4,
 "nbformat_minor": 5
}
